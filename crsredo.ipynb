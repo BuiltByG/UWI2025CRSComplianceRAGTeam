{
 "cells": [
  {
   "cell_type": "markdown",
   "id": "f6f4a82c-1fce-420d-afd8-da933e6191b3",
   "metadata": {},
   "source": [
    "Initial cell"
   ]
  },
  {
   "cell_type": "code",
   "execution_count": null,
   "id": "6ce7f439-f994-4275-8ac1-6bb6eb776dd7",
   "metadata": {},
   "outputs": [
    {
     "name": "stdout",
     "output_type": "stream",
     "text": [
      "Requirement already satisfied: numpy<2.0.0 in /usr/local/lib/python3.11/site-packages (1.26.4)\n",
      "\u001b[33mWARNING: Running pip as the 'root' user can result in broken permissions and conflicting behaviour with the system package manager, possibly rendering your system unusable. It is recommended to use a virtual environment instead: https://pip.pypa.io/warnings/venv. Use the --root-user-action option if you know what you are doing and want to suppress this warning.\u001b[0m\u001b[33m\n",
      "\u001b[0m"
     ]
    }
   ],
   "source": [
    "# Downgrade NumPy to fix FAISS compatibility issues\n",
    "!pip install \"numpy<2.0.0\"\n",
    "\n",
    "# Force kernel restart after install\n",
    "import os\n",
    "import IPython\n",
    "os.kill(os.getpid(), 9)\n"
   ]
  },
  {
   "cell_type": "markdown",
   "id": "333f400a-36d5-41e8-a221-ccecd9a70518",
   "metadata": {},
   "source": [
    "Rerun"
   ]
  },
  {
   "cell_type": "code",
   "execution_count": 1,
   "id": "e24e921c-afee-461e-937d-d6fae558b690",
   "metadata": {},
   "outputs": [],
   "source": [
    "import os\n",
    "from pathlib import Path\n",
    "from pprint import pprint\n",
    "import json\n",
    "\n",
    "from langchain_community.document_loaders import PyPDFLoader\n",
    "from langchain.text_splitter import RecursiveCharacterTextSplitter\n",
    "from langchain_community.vectorstores import FAISS\n",
    "from langchain_nvidia_ai_endpoints import ChatNVIDIA, NVIDIAEmbeddings\n"
   ]
  },
  {
   "cell_type": "markdown",
   "id": "e373bc95-e58e-4f10-a39e-677c71d4a59e",
   "metadata": {},
   "source": [
    "PDF"
   ]
  },
  {
   "cell_type": "code",
   "execution_count": 2,
   "id": "0203938c-1d4b-498a-a163-a739a0bb1e1f",
   "metadata": {},
   "outputs": [],
   "source": [
    "# Set your PDF directory\n",
    "pdf_dir = Path(\".\")  # or specify a full path\n",
    "\n",
    "# Load all PDF files in the directory\n",
    "pdf_files = list(Path(\".\").glob(\"*.pdf\"))\n",
    "docs = [PyPDFLoader(str(pdf)).load() for pdf in pdf_files]\n",
    "\n",
    "# Trim \"References\" section if present\n",
    "for doc in docs:\n",
    "    content = doc[0].page_content\n",
    "    if \"References\" in content:\n",
    "        doc[0].page_content = content[:content.index(\"References\")]\n"
   ]
  },
  {
   "cell_type": "markdown",
   "id": "28278fc6-4f2d-4ecd-84ea-1e6426e2a9ce",
   "metadata": {},
   "source": [
    "Chunking (no soya)"
   ]
  },
  {
   "cell_type": "code",
   "execution_count": 3,
   "id": "62f5b009-ae70-4d1b-ba29-f77e0ef69789",
   "metadata": {},
   "outputs": [
    {
     "name": "stdout",
     "output_type": "stream",
     "text": [
      "Total Chunks: 466\n",
      "Example chunk:\n",
      "© OECD 2017 1\n",
      "Standard for Automatic Exchange of \n",
      "Financial Information in Tax Matters\n",
      "IMPLEMENTATION  \n",
      "HANDBOOK\n",
      "Second edition\n"
     ]
    }
   ],
   "source": [
    "text_splitter = RecursiveCharacterTextSplitter(\n",
    "    chunk_size=1000,\n",
    "    chunk_overlap=100,\n",
    "    separators=[\"\\n\\n\", \"\\n\", \".\", \";\", \",\", \" \"],\n",
    ")\n",
    "\n",
    "# Split and flatten chunks\n",
    "docs_chunks = []\n",
    "for doc in docs:\n",
    "    chunks = text_splitter.split_documents(doc)\n",
    "    docs_chunks.extend(chunks)\n",
    "\n",
    "# Optional: print basic stats\n",
    "print(f\"Total Chunks: {len(docs_chunks)}\")\n",
    "print(\"Example chunk:\")\n",
    "print(docs_chunks[0].page_content[:300])\n"
   ]
  },
  {
   "cell_type": "markdown",
   "id": "f572551a-71dc-4389-82e4-d11e0c9fc249",
   "metadata": {},
   "source": [
    "FAISS Vector"
   ]
  },
  {
   "cell_type": "code",
   "execution_count": 4,
   "id": "54e1da22-2bed-4cb6-815d-955f40dd65b7",
   "metadata": {},
   "outputs": [],
   "source": [
    "# Embed using NVIDIA’s cloud embedding endpoint\n",
    "embedding_model = NVIDIAEmbeddings(model=\"nvidia/nv-embed-v1\")\n",
    "\n",
    "# Create or update the vector store\n",
    "db = FAISS.from_documents(docs_chunks, embedding_model)\n",
    "\n",
    "# Save to disk (optional, for reuse)\n",
    "db.save_local(\"faiss_crs_index\")\n"
   ]
  },
  {
   "cell_type": "markdown",
   "id": "e1c5bcfc-e650-474f-9d93-4ec3937e088e",
   "metadata": {},
   "source": [
    "RAG Chain"
   ]
  },
  {
   "cell_type": "code",
   "execution_count": 5,
   "id": "573c43ab-9a24-43b7-af1c-fdafedec870d",
   "metadata": {},
   "outputs": [
    {
     "name": "stdout",
     "output_type": "stream",
     "text": [
      "Loading FAISS vector store\n"
     ]
    }
   ],
   "source": [
    "from langchain_nvidia_ai_endpoints import ChatNVIDIA, NVIDIAEmbeddings\n",
    "from langchain.chains import RetrievalQA\n",
    "from langchain.prompts import PromptTemplate\n",
    "from langchain_community.vectorstores import FAISS\n",
    "from langchain_community.document_loaders import UnstructuredPDFLoader\n",
    "\n",
    "# Load vector store\n",
    "print(\"Loading FAISS vector store\")\n",
    "db = FAISS.load_local(\"faiss_crs_index\", NVIDIAEmbeddings(model=\"nvidia/nv-embed-v1\"), allow_dangerous_deserialization=True)\n",
    "retriever = db.as_retriever(search_kwargs={\"k\": 5})\n",
    "\n",
    "# Define Mixtral model\n",
    "llm = ChatNVIDIA(model=\"mistralai/mixtral-8x22b-instruct-v0.1\")\n",
    "\n",
    "# Create a simple prompt template\n",
    "prompt_template = \"\"\"Use the following context to answer the question.\n",
    "If the answer cannot be found in the context, say you don't know.\n",
    "\n",
    "Context:\n",
    "{context}\n",
    "\n",
    "Question:\n",
    "{question}\n",
    "\n",
    "Answer:\"\"\"\n",
    "\n",
    "prompt = PromptTemplate(template=prompt_template, input_variables=[\"context\", \"question\"])\n",
    "\n",
    "# Build RetrievalQA chain\n",
    "qa_chain = RetrievalQA.from_chain_type(\n",
    "    llm=llm,\n",
    "    chain_type=\"stuff\",\n",
    "    retriever=retriever,\n",
    "    chain_type_kwargs={\"prompt\": prompt}\n",
    ")\n"
   ]
  },
  {
   "cell_type": "markdown",
   "id": "9222732d-3313-4290-bcf1-b1ae7e304dc6",
   "metadata": {},
   "source": [
    "Testing"
   ]
  },
  {
   "cell_type": "code",
   "execution_count": 8,
   "id": "194719d1-0f0b-41c1-b536-4f0164c2abd9",
   "metadata": {},
   "outputs": [
    {
     "name": "stdout",
     "output_type": "stream",
     "text": [
      "\n",
      "CRS Compliance Assistant:\n",
      "\n",
      "The purpose of the Common Reporting Standard (CRS) is to provide a standardized set of detailed due diligence and reporting rules for financial institutions to follow in order to collect and report information for the automatic exchange of financial information. The CRS ensures consistency in the scope and quality of information exchanged. It contains detailed rules and procedures that financial institutions must follow to ensure the relevant information is collected and reported. These rules must be incorporated into domestic law to ensure due diligence and reporting is performed correctly.\n"
     ]
    }
   ],
   "source": [
    "query = \"What is the purpose of the Common Reporting Standard (CRS)?\"\n",
    "response = qa_chain.invoke({\"query\": query})\n",
    "\n",
    "print(\"\\nCRS Compliance Assistant:\\n\")\n",
    "print(response[\"result\"])\n"
   ]
  },
  {
   "cell_type": "markdown",
   "id": "02abbb22-38f7-4576-9398-931c691f05c4",
   "metadata": {},
   "source": [
    "Gradio:"
   ]
  },
  {
   "cell_type": "code",
   "execution_count": null,
   "id": "2973fa92-175b-4207-aa85-a2a0b189bc0b",
   "metadata": {},
   "outputs": [],
   "source": [
    "import gradio as gr\n",
    "import time\n",
    "\n",
    "def stream_echo(message, history):\n",
    "    buffer = \"\"\n",
    "    for c in message:\n",
    "        buffer += c\n",
    "        time.sleep(0.1)\n",
    "        yield history + [[message, buffer]]\n",
    "\n",
    "with gr.Blocks() as demo:\n",
    "    chatbot = gr.Chatbot()\n",
    "    msg = gr.Textbox(placeholder=\"Say something...\")\n",
    "    state = gr.State([])\n",
    "\n",
    "    msg.submit(stream_echo, inputs=[msg, state], outputs=[chatbot, state])\n",
    "\n",
    "demo.launch(debug=True, share=True)\n"
   ]
  },
  {
   "cell_type": "code",
   "execution_count": null,
   "id": "98bb9358-f081-4da2-bde1-a84fcfbec8fa",
   "metadata": {},
   "outputs": [],
   "source": []
  }
 ],
 "metadata": {
  "kernelspec": {
   "display_name": "Python 3 (ipykernel)",
   "language": "python",
   "name": "python3"
  },
  "language_info": {
   "codemirror_mode": {
    "name": "ipython",
    "version": 3
   },
   "file_extension": ".py",
   "mimetype": "text/x-python",
   "name": "python",
   "nbconvert_exporter": "python",
   "pygments_lexer": "ipython3",
   "version": "3.11.11"
  }
 },
 "nbformat": 4,
 "nbformat_minor": 5
}
